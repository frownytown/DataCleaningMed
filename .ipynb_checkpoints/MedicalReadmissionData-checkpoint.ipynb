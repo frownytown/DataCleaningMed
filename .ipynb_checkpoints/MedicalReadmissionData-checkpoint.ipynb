{
 "cells": [
  {
   "cell_type": "markdown",
   "metadata": {},
   "source": [
    "# Research Question\n",
    "### Roger McClain\n",
    "\n",
    "The question that I will address using this data set (Medical Readmission Data set) is the question of which variables are the best predictors of a Readmission to the hospital. The readmission is defined as being readmitted to the hospital within one month of being released. In order to answer this question I will need to clean the data, so that I can ensure that accurate conclusions can be drawn. Once the data set has been cleaned I can go about seeing which variable is the most correlated with readmission, and the hospital can use this information to take extra steps to hopefully prevent the need for someone to be readmitted."
   ]
  },
  {
   "cell_type": "code",
   "execution_count": 1,
   "metadata": {},
   "outputs": [],
   "source": [
    "# The first thing I will do is import some python packages so that I can examine the data and the variables in contains\n",
    "import pandas as pd\n",
    "import numpy as np\n",
    "import matplotlib.pyplot as plt\n",
    "# I will then read my dataset with the read_csv() function and save it as a DataFrame so that I can work with it\n",
    "readmission_df = pd.read_csv('C:/code/D206/D206Project/medical_raw_data.csv')"
   ]
  },
  {
   "cell_type": "code",
   "execution_count": 2,
   "metadata": {},
   "outputs": [],
   "source": [
    "# This code lets me have multiple outputs in one cell so that I can save some space\n",
    "from IPython.core.interactiveshell import InteractiveShell\n",
    "InteractiveShell.ast_node_interactivity = \"all\""
   ]
  },
  {
   "cell_type": "code",
   "execution_count": 3,
   "metadata": {},
   "outputs": [
    {
     "data": {
      "text/plain": [
       "(10000, 53)"
      ]
     },
     "execution_count": 3,
     "metadata": {},
     "output_type": "execute_result"
    },
    {
     "data": {
      "text/plain": [
       "Index(['Unnamed: 0', 'CaseOrder', 'Customer_id', 'Interaction', 'UID', 'City',\n",
       "       'State', 'County', 'Zip', 'Lat', 'Lng', 'Population', 'Area',\n",
       "       'Timezone', 'Job', 'Children', 'Age', 'Education', 'Employment',\n",
       "       'Income', 'Marital', 'Gender', 'ReAdmis', 'VitD_levels', 'Doc_visits',\n",
       "       'Full_meals_eaten', 'VitD_supp', 'Soft_drink', 'Initial_admin',\n",
       "       'HighBlood', 'Stroke', 'Complication_risk', 'Overweight', 'Arthritis',\n",
       "       'Diabetes', 'Hyperlipidemia', 'BackPain', 'Anxiety',\n",
       "       'Allergic_rhinitis', 'Reflux_esophagitis', 'Asthma', 'Services',\n",
       "       'Initial_days', 'TotalCharge', 'Additional_charges', 'Item1', 'Item2',\n",
       "       'Item3', 'Item4', 'Item5', 'Item6', 'Item7', 'Item8'],\n",
       "      dtype='object')"
      ]
     },
     "execution_count": 3,
     "metadata": {},
     "output_type": "execute_result"
    }
   ],
   "source": [
    "# I use the .shape command to see the size of my dataset\n",
    "readmission_df.shape\n",
    "# This lets me know that the data set is 10,000 rows and 53 columns\n",
    "readmission_df.columns\n",
    "# We can see what variables each column contains, and we can look at the Data Dictionary \n",
    "# for a description of the variables"
   ]
  },
  {
   "cell_type": "markdown",
   "metadata": {},
   "source": [
    "# Variable Description\n",
    "\n",
    "In this next section we will use a combination of the Data Dictionary and some pandas commands to examine each variable in depth. We will use a loop to create a smaller DataFrame of just the column name, the data type of the value in the column, and one example value so that we can examine this more easily. We will then be able to go through it row by row to see what each column in our main DataSet contains."
   ]
  },
  {
   "cell_type": "code",
   "execution_count": 4,
   "metadata": {},
   "outputs": [],
   "source": [
    "description_storage = []\n",
    "for (columnName, columnData) in readmission_df.iteritems():\n",
    "    description_storage.append(\n",
    "        {\n",
    "            'Name': columnName,\n",
    "            'Data Type': columnData.dtype,\n",
    "            'First / Example Value': columnData.values[0]\n",
    "        }\n",
    "    )\n",
    "description = pd.DataFrame(description_storage)"
   ]
  },
  {
   "cell_type": "code",
   "execution_count": 5,
   "metadata": {},
   "outputs": [
    {
     "data": {
      "text/plain": [
       "Data Type                     int64\n",
       "First / Example Value             1\n",
       "Name                     Unnamed: 0\n",
       "Name: 0, dtype: object"
      ]
     },
     "execution_count": 5,
     "metadata": {},
     "output_type": "execute_result"
    }
   ],
   "source": [
    "# Our first column is 'Unnamed: 0' this appears to be an indexing column, it is not mentioned in the data dictionary, \n",
    "# we will not use the values here, but we can see that the example value is \"1\" as it should be, we can see it is a\n",
    "# numeric variable as it is stored as 'Int64'\n",
    "description.iloc[0]"
   ]
  },
  {
   "cell_type": "code",
   "execution_count": 6,
   "metadata": {},
   "outputs": [
    {
     "data": {
      "text/plain": [
       "Data Type                    int64\n",
       "First / Example Value            1\n",
       "Name                     CaseOrder\n",
       "Name: 1, dtype: object"
      ]
     },
     "execution_count": 6,
     "metadata": {},
     "output_type": "execute_result"
    }
   ],
   "source": [
    "# Our second column is 'CaseOrder', this is a placeholder variable to preserve the original order in the raw data file\n",
    "# not useful for our purposes, but we can see that the example value is \"1\" as it should be we can see it is a\n",
    "# numeric variable as it is stored as 'Int64'\n",
    "description.iloc[1]"
   ]
  },
  {
   "cell_type": "code",
   "execution_count": 7,
   "metadata": {},
   "outputs": [
    {
     "data": {
      "text/plain": [
       "Data Type                     object\n",
       "First / Example Value        C412403\n",
       "Name                     Customer_id\n",
       "Name: 2, dtype: object"
      ]
     },
     "execution_count": 7,
     "metadata": {},
     "output_type": "execute_result"
    }
   ],
   "source": [
    "# Our third column is 'Customer_id', this is a unique patient ID, its Data Type is 'object', which in pandas means \n",
    "# 'string', and indeed the example value indicates that this is a string\n",
    "description.iloc[2]"
   ]
  },
  {
   "cell_type": "code",
   "execution_count": 8,
   "metadata": {},
   "outputs": [
    {
     "data": {
      "text/plain": [
       "Data Type                                              object\n",
       "First / Example Value    8cd49b13-f45a-4b47-a2bd-173ffa932c2f\n",
       "Name                                              Interaction\n",
       "Name: 3, dtype: object"
      ]
     },
     "execution_count": 8,
     "metadata": {},
     "output_type": "execute_result"
    },
    {
     "data": {
      "text/plain": [
       "Data Type                                          object\n",
       "First / Example Value    3a83ddb66e2ae73798bdf1d705dc0932\n",
       "Name                                                  UID\n",
       "Name: 4, dtype: object"
      ]
     },
     "execution_count": 8,
     "metadata": {},
     "output_type": "execute_result"
    }
   ],
   "source": [
    "# The fourth and fifth columns are 'Interaction' and 'UID' respectively, these columns are UniqueID's related to patient\n",
    "# interactions and procedures, we can see that they are both stored as strings, with the example value backing that up\n",
    "description.iloc[3]\n",
    "description.iloc[4]"
   ]
  },
  {
   "cell_type": "markdown",
   "metadata": {},
   "source": [
    "## Demographic Variables"
   ]
  },
  {
   "cell_type": "code",
   "execution_count": 9,
   "metadata": {},
   "outputs": [
    {
     "data": {
      "text/plain": [
       "Data Type                object\n",
       "First / Example Value       Eva\n",
       "Name                       City\n",
       "Name: 5, dtype: object"
      ]
     },
     "execution_count": 9,
     "metadata": {},
     "output_type": "execute_result"
    },
    {
     "data": {
      "text/plain": [
       "Data Type                object\n",
       "First / Example Value        AL\n",
       "Name                      State\n",
       "Name: 6, dtype: object"
      ]
     },
     "execution_count": 9,
     "metadata": {},
     "output_type": "execute_result"
    },
    {
     "data": {
      "text/plain": [
       "Data Type                object\n",
       "First / Example Value    Morgan\n",
       "Name                     County\n",
       "Name: 7, dtype: object"
      ]
     },
     "execution_count": 9,
     "metadata": {},
     "output_type": "execute_result"
    }
   ],
   "source": [
    "# The next 3 columns are related to geographical data about the patient, we have 'City', 'State', and 'County', these \n",
    "# stored as string type, and the example's show that this makes sense since they are the names of places. \n",
    "description.iloc[5]\n",
    "description.iloc[6]\n",
    "description.iloc[7]"
   ]
  },
  {
   "cell_type": "code",
   "execution_count": 10,
   "metadata": {},
   "outputs": [
    {
     "data": {
      "text/plain": [
       "Data Type                int64\n",
       "First / Example Value    35621\n",
       "Name                       Zip\n",
       "Name: 8, dtype: object"
      ]
     },
     "execution_count": 10,
     "metadata": {},
     "output_type": "execute_result"
    },
    {
     "data": {
      "text/plain": [
       "Data Type                float64\n",
       "First / Example Value    34.3496\n",
       "Name                         Lat\n",
       "Name: 9, dtype: object"
      ]
     },
     "execution_count": 10,
     "metadata": {},
     "output_type": "execute_result"
    },
    {
     "data": {
      "text/plain": [
       "Data Type                float64\n",
       "First / Example Value   -86.7251\n",
       "Name                         Lng\n",
       "Name: 10, dtype: object"
      ]
     },
     "execution_count": 10,
     "metadata": {},
     "output_type": "execute_result"
    }
   ],
   "source": [
    "# The next 3 columns continue to be concerned with geographical demographic data for the patient, we have 'Zip', 'Lat',\n",
    "# 'Lng', we can see that Zip code is stored as an int64, which is probably not the correct choice, zip codes can have \n",
    "# extensions and can also start with 0, which makes storing them as int64 potentially problematic. Latitude and \n",
    "# Longitude are stored as float64, which makes sense since they require a greater degree of precision, and the examples\n",
    "# show why keeping the decimal values is useful.\n",
    "description.iloc[8]\n",
    "description.iloc[9]\n",
    "description.iloc[10]"
   ]
  },
  {
   "cell_type": "code",
   "execution_count": 11,
   "metadata": {},
   "outputs": [
    {
     "data": {
      "text/plain": [
       "Data Type                     int64\n",
       "First / Example Value          2951\n",
       "Name                     Population\n",
       "Name: 11, dtype: object"
      ]
     },
     "execution_count": 11,
     "metadata": {},
     "output_type": "execute_result"
    },
    {
     "data": {
      "text/plain": [
       "Data Type                  object\n",
       "First / Example Value    Suburban\n",
       "Name                         Area\n",
       "Name: 12, dtype: object"
      ]
     },
     "execution_count": 11,
     "metadata": {},
     "output_type": "execute_result"
    },
    {
     "data": {
      "text/plain": [
       "Data Type                         object\n",
       "First / Example Value    America/Chicago\n",
       "Name                            Timezone\n",
       "Name: 13, dtype: object"
      ]
     },
     "execution_count": 11,
     "metadata": {},
     "output_type": "execute_result"
    }
   ],
   "source": [
    "# For the next 3 columns we have 'Population', which is the population within a mile radius of where the patient lives,\n",
    "# this is stored as an int64 which makes sense, since there can only be whole numbers of people. The example also bears\n",
    "# this out. Then we have 'Area', which is a categorical value between \"rural, urban, suburban\" for where the patient \n",
    "# lives, This could be potentially unstacked into 3  distinct columns if we wanted to use it in some statistical tests. \n",
    "# For now it is stored as a string and we can see that the example supports this. Finally we have 'Timezone', also as\n",
    "# a string, this could also be unstacked since it is categorical, but it would create a ton of columns and would be \n",
    "# unwieldy at best, storing as a string makes sense, and we can see that in the example as well.\n",
    "description.iloc[11]\n",
    "description.iloc[12]\n",
    "description.iloc[13]"
   ]
  },
  {
   "cell_type": "code",
   "execution_count": 12,
   "metadata": {},
   "outputs": [
    {
     "data": {
      "text/plain": [
       "Data Type                                          object\n",
       "First / Example Value    Psychologist, sport and exercise\n",
       "Name                                                  Job\n",
       "Name: 14, dtype: object"
      ]
     },
     "execution_count": 12,
     "metadata": {},
     "output_type": "execute_result"
    },
    {
     "data": {
      "text/plain": [
       "Data Type                 float64\n",
       "First / Example Value           1\n",
       "Name                     Children\n",
       "Name: 15, dtype: object"
      ]
     },
     "execution_count": 12,
     "metadata": {},
     "output_type": "execute_result"
    },
    {
     "data": {
      "text/plain": [
       "Data Type                float64\n",
       "First / Example Value         53\n",
       "Name                         Age\n",
       "Name: 16, dtype: object"
      ]
     },
     "execution_count": 12,
     "metadata": {},
     "output_type": "execute_result"
    }
   ],
   "source": [
    "# The next 3 columns are more demographic data about the patient, we have 'Job', 'Children', and 'Age'. Job is the job\n",
    "# of the patient, it is stored as a string and we can see in the example that this makes sense. The 'Children' column\n",
    "# is the number of children in the patient's household, maybe this column could be renamed to be more descriptive, it is\n",
    "# also stored as a float64, which doesn't seem to make sense, since children only come in whole numbers, we can also see\n",
    "# that the example is just a whole number. The third column is the 'Age' column, which is the patients age and as we see\n",
    "# in the example it is just a whole number.\n",
    "description.iloc[14]\n",
    "description.iloc[15]\n",
    "description.iloc[16]"
   ]
  },
  {
   "cell_type": "code",
   "execution_count": 13,
   "metadata": {},
   "outputs": [
    {
     "data": {
      "text/plain": [
       "Data Type                                        object\n",
       "First / Example Value    Some College, Less than 1 Year\n",
       "Name                                          Education\n",
       "Name: 17, dtype: object"
      ]
     },
     "execution_count": 13,
     "metadata": {},
     "output_type": "execute_result"
    },
    {
     "data": {
      "text/plain": [
       "Data Type                    object\n",
       "First / Example Value     Full Time\n",
       "Name                     Employment\n",
       "Name: 18, dtype: object"
      ]
     },
     "execution_count": 13,
     "metadata": {},
     "output_type": "execute_result"
    },
    {
     "data": {
      "text/plain": [
       "Data Type                float64\n",
       "First / Example Value    86575.9\n",
       "Name                      Income\n",
       "Name: 19, dtype: object"
      ]
     },
     "execution_count": 13,
     "metadata": {},
     "output_type": "execute_result"
    }
   ],
   "source": [
    "# The next 3 columns are more demographic data as well, we have 'Education', 'Employment', and 'Income', Education is \n",
    "# the highest amount of education that the patient has, and it is stored as a string. Employment is the patients \n",
    "# employment status, this is also a string and seems to make sense as well. Income is the patients Annual Income and is \n",
    "# stored as a float64, having this as a float64 makes sense and we can see that the example make use of it. \n",
    "description.iloc[17]\n",
    "description.iloc[18]\n",
    "description.iloc[19]"
   ]
  },
  {
   "cell_type": "code",
   "execution_count": 14,
   "metadata": {},
   "outputs": [
    {
     "data": {
      "text/plain": [
       "Data Type                  object\n",
       "First / Example Value    Divorced\n",
       "Name                      Marital\n",
       "Name: 20, dtype: object"
      ]
     },
     "execution_count": 14,
     "metadata": {},
     "output_type": "execute_result"
    },
    {
     "data": {
      "text/plain": [
       "Data Type                object\n",
       "First / Example Value      Male\n",
       "Name                     Gender\n",
       "Name: 21, dtype: object"
      ]
     },
     "execution_count": 14,
     "metadata": {},
     "output_type": "execute_result"
    }
   ],
   "source": [
    "# The next 2 columns are the final columns having to do with patient demographic data, we have 'Marital', and 'Gender',\n",
    "# Marital is the marital status of the patient, and Gender is the patients self-identified gender. These are both stored\n",
    "# as string type and since they are categorical, this makes sense for now, but we may want to unstack them at some point.\n",
    "# We can see that the examples make sense as string type.\n",
    "description.iloc[20]\n",
    "description.iloc[21]"
   ]
  },
  {
   "cell_type": "code",
   "execution_count": 15,
   "metadata": {},
   "outputs": [
    {
     "data": {
      "text/plain": [
       "Data Type                 object\n",
       "First / Example Value         No\n",
       "Name                     ReAdmis\n",
       "Name: 22, dtype: object"
      ]
     },
     "execution_count": 15,
     "metadata": {},
     "output_type": "execute_result"
    }
   ],
   "source": [
    "# The next column is 'ReAdmis' this column contains whether or not the patient has been readmitted to the hospital, we \n",
    "# define readmission as being readmitted within a month of release from the hospital, this is a categorical variable \n",
    "# that we may unstack later, but we can see that it is stored as a string and the example shows that as well. This is\n",
    "# one of our main variables for our analysis\n",
    "description.iloc[22]"
   ]
  },
  {
   "cell_type": "code",
   "execution_count": 16,
   "metadata": {},
   "outputs": [
    {
     "data": {
      "text/plain": [
       "Data Type                    float64\n",
       "First / Example Value        17.8023\n",
       "Name                     VitD_levels\n",
       "Name: 23, dtype: object"
      ]
     },
     "execution_count": 16,
     "metadata": {},
     "output_type": "execute_result"
    },
    {
     "data": {
      "text/plain": [
       "Data Type                     int64\n",
       "First / Example Value             6\n",
       "Name                     Doc_visits\n",
       "Name: 24, dtype: object"
      ]
     },
     "execution_count": 16,
     "metadata": {},
     "output_type": "execute_result"
    },
    {
     "data": {
      "text/plain": [
       "Data Type                           int64\n",
       "First / Example Value                   0\n",
       "Name                     Full_meals_eaten\n",
       "Name: 25, dtype: object"
      ]
     },
     "execution_count": 16,
     "metadata": {},
     "output_type": "execute_result"
    }
   ],
   "source": [
    "# Our next 3 columns contain some information about the patients hospital stay, first we have 'Vitd_levels', this is \n",
    "# stored as a float64 and is the patients vitamin D levels measured in ng/ml. Next we have 'Doc_visits' this is an int64\n",
    "# that measures the number of times the primary physician visited the patient during their initial hospitalization. The\n",
    "# last column is \"Full_meals_eaten\", which is an int64 of the number of full meals the patient ate while hospitalized.\n",
    "# We can see from each of the examples that the data types seem to make sense.\n",
    "description.iloc[23]\n",
    "description.iloc[24]\n",
    "description.iloc[25]"
   ]
  },
  {
   "cell_type": "code",
   "execution_count": 17,
   "metadata": {},
   "outputs": [
    {
     "data": {
      "text/plain": [
       "Data Type                    int64\n",
       "First / Example Value            0\n",
       "Name                     VitD_supp\n",
       "Name: 26, dtype: object"
      ]
     },
     "execution_count": 17,
     "metadata": {},
     "output_type": "execute_result"
    },
    {
     "data": {
      "text/plain": [
       "Data Type                    object\n",
       "First / Example Value           NaN\n",
       "Name                     Soft_drink\n",
       "Name: 27, dtype: object"
      ]
     },
     "execution_count": 17,
     "metadata": {},
     "output_type": "execute_result"
    },
    {
     "name": "stdout",
     "output_type": "stream",
     "text": [
      "Soft Drink:  No\n"
     ]
    },
    {
     "data": {
      "text/plain": [
       "Data Type                             object\n",
       "First / Example Value    Emergency Admission\n",
       "Name                           Initial_admin\n",
       "Name: 28, dtype: object"
      ]
     },
     "execution_count": 17,
     "metadata": {},
     "output_type": "execute_result"
    }
   ],
   "source": [
    "# Our next 3 columns contain more information about the patients hospital stay as well as one about their nutrition \n",
    "# history. The first column is 'VitD_supp' which is an int64 measure of the number of times that vitamin D supplements \n",
    "# were administered to the patient. We can see that in this example the patient recieved '0'. The next column is \n",
    "# 'Soft_drink', this is a categorical variable with yes or no as possible answers and it measured whether or not patient\n",
    "# habitually drinks 3 or more sodas a day, in this case or example shows a missing value, so we add a line to check\n",
    "# another row and see that it is correctly a string. Lastly we have 'Initial_admin' which is stored as a string and\n",
    "# shows the means by which the patient was admitted. The example shows that this patient was admitted on the \n",
    "# 'Emergency Admission' category.\n",
    "description.iloc[26]\n",
    "description.iloc[27]\n",
    "print('Soft Drink: ',readmission_df['Soft_drink'][2])\n",
    "description.iloc[28]"
   ]
  },
  {
   "cell_type": "markdown",
   "metadata": {},
   "source": [
    "## Patient Preexisting Conditions Variables"
   ]
  },
  {
   "cell_type": "code",
   "execution_count": 18,
   "metadata": {},
   "outputs": [
    {
     "data": {
      "text/plain": [
       "Data Type                   object\n",
       "First / Example Value          Yes\n",
       "Name                     HighBlood\n",
       "Name: 29, dtype: object"
      ]
     },
     "execution_count": 18,
     "metadata": {},
     "output_type": "execute_result"
    },
    {
     "data": {
      "text/plain": [
       "Data Type                object\n",
       "First / Example Value        No\n",
       "Name                     Stroke\n",
       "Name: 30, dtype: object"
      ]
     },
     "execution_count": 18,
     "metadata": {},
     "output_type": "execute_result"
    },
    {
     "data": {
      "text/plain": [
       "Data Type                           object\n",
       "First / Example Value               Medium\n",
       "Name                     Complication_risk\n",
       "Name: 31, dtype: object"
      ]
     },
     "execution_count": 18,
     "metadata": {},
     "output_type": "execute_result"
    }
   ],
   "source": [
    "# The next group of variables all concern the patients preexisting health conditions, We have 'HighBlood', 'Stroke', \n",
    "# and 'Complication_risk', HighBlood is a string categorical variable, indicating if the patient has high blood pressure\n",
    "# or not. Stroke is the same, only with whether or not the patient has had a stroke or not. As for Complication_risk \n",
    "# this is a string categorical variable as well of the level of complication risk (low, medium, high)\n",
    "description.iloc[29]\n",
    "description.iloc[30]\n",
    "description.iloc[31]"
   ]
  },
  {
   "cell_type": "code",
   "execution_count": 19,
   "metadata": {},
   "outputs": [
    {
     "data": {
      "text/plain": [
       "Data Type                   float64\n",
       "First / Example Value             0\n",
       "Name                     Overweight\n",
       "Name: 32, dtype: object"
      ]
     },
     "execution_count": 19,
     "metadata": {},
     "output_type": "execute_result"
    },
    {
     "data": {
      "text/plain": [
       "Data Type                   object\n",
       "First / Example Value          Yes\n",
       "Name                     Arthritis\n",
       "Name: 33, dtype: object"
      ]
     },
     "execution_count": 19,
     "metadata": {},
     "output_type": "execute_result"
    },
    {
     "data": {
      "text/plain": [
       "Data Type                  object\n",
       "First / Example Value         Yes\n",
       "Name                     Diabetes\n",
       "Name: 34, dtype: object"
      ]
     },
     "execution_count": 19,
     "metadata": {},
     "output_type": "execute_result"
    }
   ],
   "source": [
    "# Our next 3 columns also concern preexisting health conditions, first we have 'Overweight', this is being stored as a\n",
    "# float64 and the example is just a 0. This should probably be changed to string categorical variable like our other\n",
    "# columns, since it is a yes or no for whether or not the patient is overweight. Next we have 'Arthritis' and 'Diabetes'\n",
    "# and these are both string categorical yes or no variables. The examples also show this.\n",
    "description.iloc[32]\n",
    "description.iloc[33]\n",
    "description.iloc[34]"
   ]
  },
  {
   "cell_type": "code",
   "execution_count": 20,
   "metadata": {},
   "outputs": [
    {
     "data": {
      "text/plain": [
       "Data Type                        object\n",
       "First / Example Value                No\n",
       "Name                     Hyperlipidemia\n",
       "Name: 35, dtype: object"
      ]
     },
     "execution_count": 20,
     "metadata": {},
     "output_type": "execute_result"
    },
    {
     "data": {
      "text/plain": [
       "Data Type                  object\n",
       "First / Example Value         Yes\n",
       "Name                     BackPain\n",
       "Name: 36, dtype: object"
      ]
     },
     "execution_count": 20,
     "metadata": {},
     "output_type": "execute_result"
    },
    {
     "data": {
      "text/plain": [
       "Data Type                float64\n",
       "First / Example Value          1\n",
       "Name                     Anxiety\n",
       "Name: 37, dtype: object"
      ]
     },
     "execution_count": 20,
     "metadata": {},
     "output_type": "execute_result"
    }
   ],
   "source": [
    "# Our next 3 columns also concern preexisting health conditions, we have 'Hyperlipidemia', 'BackPain', and 'Anxiety'. \n",
    "# Hyperlipidemia and BackPain are both string categorical yes or no variables about whether or not the patient has the\n",
    "# condition. Our 3rd variable Anxiety is also a yes or no variable, but it is being stored as a float 64 numeric\n",
    "# and so may need to be changed. The examples show yes or no for the first 2 columns and the Anxiety variable shows that\n",
    "# it is numeric\n",
    "description.iloc[35]\n",
    "description.iloc[36]\n",
    "description.iloc[37]"
   ]
  },
  {
   "cell_type": "code",
   "execution_count": 21,
   "metadata": {},
   "outputs": [
    {
     "data": {
      "text/plain": [
       "Data Type                           object\n",
       "First / Example Value                  Yes\n",
       "Name                     Allergic_rhinitis\n",
       "Name: 38, dtype: object"
      ]
     },
     "execution_count": 21,
     "metadata": {},
     "output_type": "execute_result"
    },
    {
     "data": {
      "text/plain": [
       "Data Type                            object\n",
       "First / Example Value                    No\n",
       "Name                     Reflux_esophagitis\n",
       "Name: 39, dtype: object"
      ]
     },
     "execution_count": 21,
     "metadata": {},
     "output_type": "execute_result"
    },
    {
     "data": {
      "text/plain": [
       "Data Type                object\n",
       "First / Example Value       Yes\n",
       "Name                     Asthma\n",
       "Name: 40, dtype: object"
      ]
     },
     "execution_count": 21,
     "metadata": {},
     "output_type": "execute_result"
    }
   ],
   "source": [
    "# Our next 3 columns also concern preexisting health conditions, we have 'Allergic_rhinitis', 'Reflux_esophagitis', \n",
    "# and 'Asthma'. All 3 of these are string categorical yes or no variables about whether or not the patient has the\n",
    "# condition. The examples show that the values are Yes or No.\n",
    "description.iloc[38]\n",
    "description.iloc[39]\n",
    "description.iloc[40]"
   ]
  },
  {
   "cell_type": "code",
   "execution_count": 22,
   "metadata": {},
   "outputs": [
    {
     "data": {
      "text/plain": [
       "Data Type                    object\n",
       "First / Example Value    Blood Work\n",
       "Name                       Services\n",
       "Name: 41, dtype: object"
      ]
     },
     "execution_count": 22,
     "metadata": {},
     "output_type": "execute_result"
    },
    {
     "data": {
      "text/plain": [
       "Data Type                     float64\n",
       "First / Example Value         10.5858\n",
       "Name                     Initial_days\n",
       "Name: 42, dtype: object"
      ]
     },
     "execution_count": 22,
     "metadata": {},
     "output_type": "execute_result"
    },
    {
     "data": {
      "text/plain": [
       "Data Type                    float64\n",
       "First / Example Value        3191.05\n",
       "Name                     TotalCharge\n",
       "Name: 43, dtype: object"
      ]
     },
     "execution_count": 22,
     "metadata": {},
     "output_type": "execute_result"
    }
   ],
   "source": [
    "# Our next 3 columns are 'Services', 'Initial_days', 'TotalCharge'. Services is a string categorical variable that \n",
    "# indicates what the primary service the patient recieved while in the hospital was. We can see that the example is\n",
    "# 'Blood Work'. Initial_days is a float64 that shows the number of days that the patient stayed in the hospital during\n",
    "# their initial visit. The example shows that it makes use of the float64 to show partial days. Lastly we have\n",
    "# TotalCharge is the amount charged to the patient daily, this value is an average per patient based on total charge\n",
    "# divided by number of days, so float64 makes sense. We can see that in the example as well.\n",
    "description.iloc[41]\n",
    "description.iloc[42]\n",
    "description.iloc[43]"
   ]
  },
  {
   "cell_type": "code",
   "execution_count": 23,
   "metadata": {},
   "outputs": [
    {
     "data": {
      "text/plain": [
       "Data Type                           float64\n",
       "First / Example Value               17939.4\n",
       "Name                     Additional_charges\n",
       "Name: 44, dtype: object"
      ]
     },
     "execution_count": 23,
     "metadata": {},
     "output_type": "execute_result"
    }
   ],
   "source": [
    "# For our last preexisting condition column we have 'Additional_charges', this column is a float64 of the average amount\n",
    "# charged to the patient for misc procedures, treatments, etc. Since this is an average, it makes sense to have it as a\n",
    "# float64. We can also see this reflected in the example.\n",
    "description.iloc[44]"
   ]
  },
  {
   "cell_type": "markdown",
   "metadata": {},
   "source": [
    "## Survey Question Responses"
   ]
  },
  {
   "cell_type": "code",
   "execution_count": 24,
   "metadata": {},
   "outputs": [
    {
     "name": "stdout",
     "output_type": "stream",
     "text": [
      "Timely admission\n"
     ]
    },
    {
     "data": {
      "text/plain": [
       "Data Type                int64\n",
       "First / Example Value        3\n",
       "Name                     Item1\n",
       "Name: 45, dtype: object"
      ]
     },
     "execution_count": 24,
     "metadata": {},
     "output_type": "execute_result"
    },
    {
     "name": "stdout",
     "output_type": "stream",
     "text": [
      "Timely treatment\n"
     ]
    },
    {
     "data": {
      "text/plain": [
       "Data Type                int64\n",
       "First / Example Value        3\n",
       "Name                     Item2\n",
       "Name: 46, dtype: object"
      ]
     },
     "execution_count": 24,
     "metadata": {},
     "output_type": "execute_result"
    },
    {
     "name": "stdout",
     "output_type": "stream",
     "text": [
      "Timely visits\n"
     ]
    },
    {
     "data": {
      "text/plain": [
       "Data Type                int64\n",
       "First / Example Value        2\n",
       "Name                     Item3\n",
       "Name: 47, dtype: object"
      ]
     },
     "execution_count": 24,
     "metadata": {},
     "output_type": "execute_result"
    },
    {
     "name": "stdout",
     "output_type": "stream",
     "text": [
      "Reliability\n"
     ]
    },
    {
     "data": {
      "text/plain": [
       "Data Type                int64\n",
       "First / Example Value        2\n",
       "Name                     Item4\n",
       "Name: 48, dtype: object"
      ]
     },
     "execution_count": 24,
     "metadata": {},
     "output_type": "execute_result"
    },
    {
     "name": "stdout",
     "output_type": "stream",
     "text": [
      "Options\n"
     ]
    },
    {
     "data": {
      "text/plain": [
       "Data Type                int64\n",
       "First / Example Value        4\n",
       "Name                     Item5\n",
       "Name: 49, dtype: object"
      ]
     },
     "execution_count": 24,
     "metadata": {},
     "output_type": "execute_result"
    },
    {
     "name": "stdout",
     "output_type": "stream",
     "text": [
      "Hours of treatment\n"
     ]
    },
    {
     "data": {
      "text/plain": [
       "Data Type                int64\n",
       "First / Example Value        3\n",
       "Name                     Item6\n",
       "Name: 50, dtype: object"
      ]
     },
     "execution_count": 24,
     "metadata": {},
     "output_type": "execute_result"
    },
    {
     "name": "stdout",
     "output_type": "stream",
     "text": [
      "Courteous staff\n"
     ]
    },
    {
     "data": {
      "text/plain": [
       "Data Type                int64\n",
       "First / Example Value        3\n",
       "Name                     Item7\n",
       "Name: 51, dtype: object"
      ]
     },
     "execution_count": 24,
     "metadata": {},
     "output_type": "execute_result"
    },
    {
     "name": "stdout",
     "output_type": "stream",
     "text": [
      "Evidence of active listening from doctor\n"
     ]
    },
    {
     "data": {
      "text/plain": [
       "Data Type                int64\n",
       "First / Example Value        4\n",
       "Name                     Item8\n",
       "Name: 52, dtype: object"
      ]
     },
     "execution_count": 24,
     "metadata": {},
     "output_type": "execute_result"
    }
   ],
   "source": [
    "# For our next 8 columns we have responses to an eight question survey asking customers, these are stored as int64 and \n",
    "# are numbers on a scale of 1 to 8 with 1 being the most important for the category. Below I have printed out what each\n",
    "# item is concerning above the example and column name. We can see from the examples that int 64 makes sense.\n",
    "print('Timely admission')\n",
    "description.iloc[45]\n",
    "print('Timely treatment')\n",
    "description.iloc[46]\n",
    "print('Timely visits')\n",
    "description.iloc[47]\n",
    "print('Reliability')\n",
    "description.iloc[48]\n",
    "print('Options')\n",
    "description.iloc[49]\n",
    "print('Hours of treatment')\n",
    "description.iloc[50]\n",
    "print('Courteous staff')\n",
    "description.iloc[51]\n",
    "print('Evidence of active listening from doctor')\n",
    "description.iloc[52]"
   ]
  },
  {
   "cell_type": "markdown",
   "metadata": {},
   "source": [
    "# Data Cleaning Plan\n",
    "\n",
    "The plan that I have to clean the data is to use the following plan. I will use Python and Jupyter Notebook to examine the data and then clean the data step by step.\n",
    "I will start by making a copy of the data, that way I have the original before I start to make changes, then I will drop the unnecessary columns that I do not plan to use to answer my reasearch question. Next I will rename any columns that do not have appropriatly descriptive names for what they represent. I will convert any columns that are stored in an innapropriate data type to the appropriate data type. I will then use built in python functions to identify both duplicate rows and rows with missing values. I will remove duplicates and then make a judgement on what to do with the missing values based on the type of variable the missing data is and the number of missing values there are. I may fill the missing values with the mean or mode of the other existing variables. I will then try to identify any outliers and remove them. \n",
    "\n",
    "I have selected the Python programming language and the pandas, numpy, seaborn and matplotlib libraries, for use in the cleaning process. I use the Python programming language since it is a powerful langugage with lots of documentation, and it is the language I am the most comfortable with. I use pandas so that I can import the .csv and open it as a DataFrame, since it includes many useful functions for working with data in this format. Numpy is very useful for doing mathematical operations and matplotlib and seaborn are good for graphing the data when I look for the outliers. \n"
   ]
  },
  {
   "cell_type": "markdown",
   "metadata": {},
   "source": [
    "## Drop Columns"
   ]
  },
  {
   "cell_type": "code",
   "execution_count": 25,
   "metadata": {},
   "outputs": [],
   "source": [
    "# I start by making a copy of the dataframe so that I can retain the original in case I need to start over. \n",
    "df = readmission_df.copy()"
   ]
  },
  {
   "cell_type": "code",
   "execution_count": 26,
   "metadata": {},
   "outputs": [
    {
     "data": {
      "text/plain": [
       "Index(['Unnamed: 0', 'CaseOrder', 'Customer_id', 'Interaction', 'UID', 'City',\n",
       "       'State', 'County', 'Zip', 'Lat', 'Lng', 'Population', 'Area',\n",
       "       'Timezone', 'Job', 'Children', 'Age', 'Education', 'Employment',\n",
       "       'Income', 'Marital', 'Gender', 'ReAdmis', 'VitD_levels', 'Doc_visits',\n",
       "       'Full_meals_eaten', 'VitD_supp', 'Soft_drink', 'Initial_admin',\n",
       "       'HighBlood', 'Stroke', 'Complication_risk', 'Overweight', 'Arthritis',\n",
       "       'Diabetes', 'Hyperlipidemia', 'BackPain', 'Anxiety',\n",
       "       'Allergic_rhinitis', 'Reflux_esophagitis', 'Asthma', 'Services',\n",
       "       'Initial_days', 'TotalCharge', 'Additional_charges', 'Item1', 'Item2',\n",
       "       'Item3', 'Item4', 'Item5', 'Item6', 'Item7', 'Item8'],\n",
       "      dtype='object')"
      ]
     },
     "execution_count": 26,
     "metadata": {},
     "output_type": "execute_result"
    }
   ],
   "source": [
    "# Next we will check out all the columns and drop the ones that are not needed\n",
    "df.columns"
   ]
  },
  {
   "cell_type": "code",
   "execution_count": 27,
   "metadata": {},
   "outputs": [
    {
     "data": {
      "text/plain": [
       "(10000, 53)"
      ]
     },
     "execution_count": 27,
     "metadata": {},
     "output_type": "execute_result"
    }
   ],
   "source": [
    "df.shape"
   ]
  },
  {
   "cell_type": "markdown",
   "metadata": {},
   "source": [
    "### I have opted to drop the below columns due to them not being relevant for answering my research question"
   ]
  },
  {
   "cell_type": "code",
   "execution_count": 28,
   "metadata": {},
   "outputs": [],
   "source": [
    "df.drop(columns=['Unnamed: 0', 'CaseOrder', 'Interaction', 'UID', 'Item1', 'Item2', 'Item3', 'Item4', 'Item5', 'Item6', 'Item7', 'Item8'], inplace=True)"
   ]
  },
  {
   "cell_type": "code",
   "execution_count": 29,
   "metadata": {},
   "outputs": [
    {
     "data": {
      "text/plain": [
       "(10000, 41)"
      ]
     },
     "execution_count": 29,
     "metadata": {},
     "output_type": "execute_result"
    },
    {
     "data": {
      "text/plain": [
       "Index(['Customer_id', 'City', 'State', 'County', 'Zip', 'Lat', 'Lng',\n",
       "       'Population', 'Area', 'Timezone', 'Job', 'Children', 'Age', 'Education',\n",
       "       'Employment', 'Income', 'Marital', 'Gender', 'ReAdmis', 'VitD_levels',\n",
       "       'Doc_visits', 'Full_meals_eaten', 'VitD_supp', 'Soft_drink',\n",
       "       'Initial_admin', 'HighBlood', 'Stroke', 'Complication_risk',\n",
       "       'Overweight', 'Arthritis', 'Diabetes', 'Hyperlipidemia', 'BackPain',\n",
       "       'Anxiety', 'Allergic_rhinitis', 'Reflux_esophagitis', 'Asthma',\n",
       "       'Services', 'Initial_days', 'TotalCharge', 'Additional_charges'],\n",
       "      dtype='object')"
      ]
     },
     "execution_count": 29,
     "metadata": {},
     "output_type": "execute_result"
    }
   ],
   "source": [
    "df.shape\n",
    "df.columns"
   ]
  },
  {
   "cell_type": "markdown",
   "metadata": {},
   "source": [
    "### The next thing that I want to do is rename the columns whose names I find to be less descriptive than they should be. I will change the names so that I can tell what the column is representing at a glance."
   ]
  },
  {
   "cell_type": "code",
   "execution_count": 30,
   "metadata": {},
   "outputs": [],
   "source": [
    "df.rename(columns= {'Lat':'Latitude', 'Lng':'Longitude', 'Population':'Population_Within_One_Mile', 'Area': 'Area_Type', 'ReAdmis':'ReAdmission_Status'}, inplace=True)"
   ]
  },
  {
   "cell_type": "code",
   "execution_count": 31,
   "metadata": {},
   "outputs": [
    {
     "data": {
      "text/plain": [
       "Index(['Customer_id', 'City', 'State', 'County', 'Zip', 'Latitude',\n",
       "       'Longitude', 'Population_Within_One_Mile', 'Area_Type', 'Timezone',\n",
       "       'Job', 'Children', 'Age', 'Education', 'Employment', 'Income',\n",
       "       'Marital', 'Gender', 'ReAdmission_Status', 'VitD_levels', 'Doc_visits',\n",
       "       'Full_meals_eaten', 'VitD_supp', 'Soft_drink', 'Initial_admin',\n",
       "       'HighBlood', 'Stroke', 'Complication_risk', 'Overweight', 'Arthritis',\n",
       "       'Diabetes', 'Hyperlipidemia', 'BackPain', 'Anxiety',\n",
       "       'Allergic_rhinitis', 'Reflux_esophagitis', 'Asthma', 'Services',\n",
       "       'Initial_days', 'TotalCharge', 'Additional_charges'],\n",
       "      dtype='object')"
      ]
     },
     "execution_count": 31,
     "metadata": {},
     "output_type": "execute_result"
    }
   ],
   "source": [
    "df.columns"
   ]
  },
  {
   "cell_type": "markdown",
   "metadata": {},
   "source": [
    "## Converting Data Types\n",
    "### The next step will be to convert my columns to more appropriate data types for the type of values that they contain"
   ]
  },
  {
   "cell_type": "code",
   "execution_count": 32,
   "metadata": {},
   "outputs": [
    {
     "data": {
      "text/plain": [
       "Customer_id                    object\n",
       "City                           object\n",
       "State                          object\n",
       "County                         object\n",
       "Zip                             int64\n",
       "Latitude                      float64\n",
       "Longitude                     float64\n",
       "Population_Within_One_Mile      int64\n",
       "Area_Type                      object\n",
       "Timezone                       object\n",
       "Job                            object\n",
       "Children                      float64\n",
       "Age                           float64\n",
       "Education                      object\n",
       "Employment                     object\n",
       "Income                        float64\n",
       "Marital                        object\n",
       "Gender                         object\n",
       "ReAdmission_Status             object\n",
       "VitD_levels                   float64\n",
       "Doc_visits                      int64\n",
       "Full_meals_eaten                int64\n",
       "VitD_supp                       int64\n",
       "Soft_drink                     object\n",
       "Initial_admin                  object\n",
       "HighBlood                      object\n",
       "Stroke                         object\n",
       "Complication_risk              object\n",
       "Overweight                    float64\n",
       "Arthritis                      object\n",
       "Diabetes                       object\n",
       "Hyperlipidemia                 object\n",
       "BackPain                       object\n",
       "Anxiety                       float64\n",
       "Allergic_rhinitis              object\n",
       "Reflux_esophagitis             object\n",
       "Asthma                         object\n",
       "Services                       object\n",
       "Initial_days                  float64\n",
       "TotalCharge                   float64\n",
       "Additional_charges            float64\n",
       "dtype: object"
      ]
     },
     "execution_count": 32,
     "metadata": {},
     "output_type": "execute_result"
    }
   ],
   "source": [
    "df.dtypes"
   ]
  },
  {
   "cell_type": "markdown",
   "metadata": {},
   "source": [
    "## Zip\n",
    "#### The first column whose type I will change will be the Zip Code column \"Zip\".\n",
    "\n",
    "It is currently stored as int64, but the problem is that this means that any zip codes that start with 0's will have those 0's stripped away, additionally zip codes are more approapriately though of as categories, rather than as numbers to do math on.\n",
    "\n",
    "\n",
    "\n"
   ]
  },
  {
   "cell_type": "code",
   "execution_count": 33,
   "metadata": {},
   "outputs": [
    {
     "data": {
      "text/html": [
       "<div>\n",
       "<style scoped>\n",
       "    .dataframe tbody tr th:only-of-type {\n",
       "        vertical-align: middle;\n",
       "    }\n",
       "\n",
       "    .dataframe tbody tr th {\n",
       "        vertical-align: top;\n",
       "    }\n",
       "\n",
       "    .dataframe thead th {\n",
       "        text-align: right;\n",
       "    }\n",
       "</style>\n",
       "<table border=\"1\" class=\"dataframe\">\n",
       "  <thead>\n",
       "    <tr style=\"text-align: right;\">\n",
       "      <th></th>\n",
       "      <th>Zip</th>\n",
       "      <th>Zip_Length</th>\n",
       "    </tr>\n",
       "  </thead>\n",
       "  <tbody>\n",
       "    <tr>\n",
       "      <th>7391</th>\n",
       "      <td>3246</td>\n",
       "      <td>4</td>\n",
       "    </tr>\n",
       "    <tr>\n",
       "      <th>880</th>\n",
       "      <td>4669</td>\n",
       "      <td>4</td>\n",
       "    </tr>\n",
       "    <tr>\n",
       "      <th>9453</th>\n",
       "      <td>4762</td>\n",
       "      <td>4</td>\n",
       "    </tr>\n",
       "    <tr>\n",
       "      <th>6458</th>\n",
       "      <td>2122</td>\n",
       "      <td>4</td>\n",
       "    </tr>\n",
       "    <tr>\n",
       "      <th>5957</th>\n",
       "      <td>2886</td>\n",
       "      <td>4</td>\n",
       "    </tr>\n",
       "  </tbody>\n",
       "</table>\n",
       "</div>"
      ],
      "text/plain": [
       "       Zip  Zip_Length\n",
       "7391  3246           4\n",
       "880   4669           4\n",
       "9453  4762           4\n",
       "6458  2122           4\n",
       "5957  2886           4"
      ]
     },
     "execution_count": 33,
     "metadata": {},
     "output_type": "execute_result"
    },
    {
     "data": {
      "text/plain": [
       "Zip_Length    723\n",
       "dtype: int64"
      ]
     },
     "execution_count": 33,
     "metadata": {},
     "output_type": "execute_result"
    }
   ],
   "source": [
    "# Here we will begin the process of converting the Zip column, but first we can see that 723 values in the column are less than 5 digits long indicated that they are missing their preceeding zeroes.\n",
    "df['Zip_Length'] = df['Zip'].astype(str).map(len)\n",
    "df[['Zip', 'Zip_Length']].query('Zip_Length < 5').sample(5)\n",
    "df[['Zip_Length']].query('Zip_Length < 5').count()"
   ]
  },
  {
   "cell_type": "code",
   "execution_count": 34,
   "metadata": {},
   "outputs": [],
   "source": [
    "# We will use a function to fill with 0's any values that are missing digits up to 5 length.\n",
    "df['Zip'] = df['Zip'].astype(str).str.zfill(5)"
   ]
  },
  {
   "cell_type": "code",
   "execution_count": 35,
   "metadata": {},
   "outputs": [
    {
     "data": {
      "text/html": [
       "<div>\n",
       "<style scoped>\n",
       "    .dataframe tbody tr th:only-of-type {\n",
       "        vertical-align: middle;\n",
       "    }\n",
       "\n",
       "    .dataframe tbody tr th {\n",
       "        vertical-align: top;\n",
       "    }\n",
       "\n",
       "    .dataframe thead th {\n",
       "        text-align: right;\n",
       "    }\n",
       "</style>\n",
       "<table border=\"1\" class=\"dataframe\">\n",
       "  <thead>\n",
       "    <tr style=\"text-align: right;\">\n",
       "      <th></th>\n",
       "      <th>Zip</th>\n",
       "      <th>Zip_Length</th>\n",
       "    </tr>\n",
       "  </thead>\n",
       "  <tbody>\n",
       "  </tbody>\n",
       "</table>\n",
       "</div>"
      ],
      "text/plain": [
       "Empty DataFrame\n",
       "Columns: [Zip, Zip_Length]\n",
       "Index: []"
      ]
     },
     "execution_count": 35,
     "metadata": {},
     "output_type": "execute_result"
    },
    {
     "data": {
      "text/plain": [
       "Zip_Length    0\n",
       "dtype: int64"
      ]
     },
     "execution_count": 35,
     "metadata": {},
     "output_type": "execute_result"
    }
   ],
   "source": [
    "# Then we will check again for values of less than 5 length to confirm the changes worked.\n",
    "df['Zip_Length'] = df['Zip'].astype(str).map(len)\n",
    "df[['Zip', 'Zip_Length']].query('Zip_Length < 5')\n",
    "df[['Zip_Length']].query('Zip_Length < 5').count()"
   ]
  },
  {
   "cell_type": "code",
   "execution_count": 36,
   "metadata": {},
   "outputs": [
    {
     "name": "stdout",
     "output_type": "stream",
     "text": [
      "object\n"
     ]
    }
   ],
   "source": [
    "# We wil also check to make sure the dtype is changed:\n",
    "print(df['Zip'].dtype)"
   ]
  },
  {
   "cell_type": "markdown",
   "metadata": {},
   "source": [
    "## Children\n",
    "### The next column I identified as being the wrong type is children, this is currently stored as a float, but I would like to store it as an integer due to the memory saving and due to the fact that I cannot have partial children."
   ]
  },
  {
   "cell_type": "code",
   "execution_count": 38,
   "metadata": {},
   "outputs": [
    {
     "data": {
      "text/plain": [
       "dtype('float64')"
      ]
     },
     "execution_count": 38,
     "metadata": {},
     "output_type": "execute_result"
    }
   ],
   "source": [
    "df['Children'].dtype"
   ]
  },
  {
   "cell_type": "code",
   "execution_count": 53,
   "metadata": {},
   "outputs": [
    {
     "data": {
      "text/plain": [
       "0.0     1880\n",
       "1.0     1858\n",
       "3.0     1113\n",
       "2.0     1094\n",
       "4.0      739\n",
       "8.0      157\n",
       "7.0      154\n",
       "6.0      145\n",
       "5.0      126\n",
       "9.0       83\n",
       "10.0      63\n",
       "Name: Children, dtype: int64"
      ]
     },
     "execution_count": 53,
     "metadata": {},
     "output_type": "execute_result"
    }
   ],
   "source": [
    "df['Children'].value_counts()"
   ]
  },
  {
   "cell_type": "code",
   "execution_count": 54,
   "metadata": {},
   "outputs": [
    {
     "data": {
      "text/plain": [
       "2588"
      ]
     },
     "execution_count": 54,
     "metadata": {},
     "output_type": "execute_result"
    }
   ],
   "source": [
    "df['Children'].isnull().sum()"
   ]
  },
  {
   "cell_type": "code",
   "execution_count": 55,
   "metadata": {},
   "outputs": [
    {
     "data": {
      "text/plain": [
       "7412"
      ]
     },
     "execution_count": 55,
     "metadata": {},
     "output_type": "execute_result"
    }
   ],
   "source": [
    "df['Children'].notnull().sum()"
   ]
  },
  {
   "cell_type": "markdown",
   "metadata": {},
   "source": [
    "#### We can see that there are quite a few null values in this column, and due to a quirk of pandas, we cannot convert this column to an int until there are no longer any. Since I want to clean this data up anyways this is fine. Due to the nature of Children as a variable, I think we are safe to fill the null values with '0'. "
   ]
  },
  {
   "cell_type": "code",
   "execution_count": 56,
   "metadata": {},
   "outputs": [
    {
     "data": {
      "text/plain": [
       "0"
      ]
     },
     "execution_count": 56,
     "metadata": {},
     "output_type": "execute_result"
    }
   ],
   "source": [
    "# We will fill the NaN's in this special case with 0's then check that they are gone\n",
    "df['Children'] = df['Children'].fillna(0)\n",
    "df['Children'].isnull().sum()"
   ]
  },
  {
   "cell_type": "code",
   "execution_count": 57,
   "metadata": {},
   "outputs": [
    {
     "data": {
      "text/plain": [
       "10000"
      ]
     },
     "execution_count": 57,
     "metadata": {},
     "output_type": "execute_result"
    }
   ],
   "source": [
    "df['Children'].notnull().sum()"
   ]
  },
  {
   "cell_type": "code",
   "execution_count": 58,
   "metadata": {},
   "outputs": [
    {
     "data": {
      "text/plain": [
       "dtype('int32')"
      ]
     },
     "execution_count": 58,
     "metadata": {},
     "output_type": "execute_result"
    }
   ],
   "source": [
    "df['Children'] = df['Children'].astype(int)\n",
    "df['Children'].dtype"
   ]
  },
  {
   "cell_type": "markdown",
   "metadata": {},
   "source": [
    "## Converting 'Overweight' and 'Anxiety' columns\n",
    "\n",
    "### These two columns are currently being stored as float64, but they are columns that are very binary, in that the only acceptable answers are yes or no. We want to convert this to categorical data. and also map the 1 and 0 answers to yes and no. "
   ]
  },
  {
   "cell_type": "code",
   "execution_count": 73,
   "metadata": {},
   "outputs": [
    {
     "data": {
      "text/plain": [
       "Overweight    float64\n",
       "Anxiety       float64\n",
       "dtype: object"
      ]
     },
     "execution_count": 73,
     "metadata": {},
     "output_type": "execute_result"
    }
   ],
   "source": [
    "df[['Overweight', 'Anxiety']].dtypes"
   ]
  },
  {
   "cell_type": "code",
   "execution_count": 74,
   "metadata": {},
   "outputs": [
    {
     "data": {
      "text/plain": [
       "Overweight    982\n",
       "Anxiety       984\n",
       "dtype: int64"
      ]
     },
     "execution_count": 74,
     "metadata": {},
     "output_type": "execute_result"
    }
   ],
   "source": [
    "df[['Overweight', 'Anxiety']].isnull().sum()"
   ]
  },
  {
   "cell_type": "code",
   "execution_count": 104,
   "metadata": {},
   "outputs": [
    {
     "data": {
      "text/plain": [
       "0.0    6110\n",
       "1.0    2906\n",
       "Name: Anxiety, dtype: int64"
      ]
     },
     "execution_count": 104,
     "metadata": {},
     "output_type": "execute_result"
    }
   ],
   "source": [
    "df['Anxiety'].value_counts()"
   ]
  },
  {
   "cell_type": "markdown",
   "metadata": {},
   "source": [
    "#### Due to there being missing data, and that data being categorical we are going to fill it with the most common value, so that we can still use the rows in further analysis. Then we can convert the data to Categorical to store it going forward."
   ]
  },
  {
   "cell_type": "code",
   "execution_count": 122,
   "metadata": {},
   "outputs": [
    {
     "data": {
      "text/plain": [
       "0    0.0\n",
       "dtype: float64"
      ]
     },
     "execution_count": 122,
     "metadata": {},
     "output_type": "execute_result"
    }
   ],
   "source": [
    "df['Anxiety'].mode()"
   ]
  },
  {
   "cell_type": "code",
   "execution_count": 118,
   "metadata": {},
   "outputs": [],
   "source": [
    "df['Anxiety'] = df['Anxiety'].fillna(0.0)"
   ]
  },
  {
   "cell_type": "code",
   "execution_count": 120,
   "metadata": {},
   "outputs": [
    {
     "data": {
      "text/plain": [
       "0"
      ]
     },
     "execution_count": 120,
     "metadata": {},
     "output_type": "execute_result"
    }
   ],
   "source": [
    "df['Anxiety'].isnull().sum()"
   ]
  },
  {
   "cell_type": "code",
   "execution_count": 121,
   "metadata": {},
   "outputs": [
    {
     "data": {
      "text/plain": [
       "0.0    7094\n",
       "1.0    2906\n",
       "Name: Anxiety, dtype: int64"
      ]
     },
     "execution_count": 121,
     "metadata": {},
     "output_type": "execute_result"
    }
   ],
   "source": [
    "df['Anxiety'].value_counts()"
   ]
  },
  {
   "cell_type": "markdown",
   "metadata": {},
   "source": [
    "#### We will repeat this for the 'Overweight' column as well."
   ]
  },
  {
   "cell_type": "code",
   "execution_count": 128,
   "metadata": {},
   "outputs": [
    {
     "data": {
      "text/plain": [
       "0    1.0\n",
       "dtype: float64"
      ]
     },
     "execution_count": 128,
     "metadata": {},
     "output_type": "execute_result"
    }
   ],
   "source": [
    "df['Overweight'].mode()"
   ]
  },
  {
   "cell_type": "code",
   "execution_count": 124,
   "metadata": {},
   "outputs": [
    {
     "data": {
      "text/plain": [
       "1.0    6395\n",
       "0.0    2623\n",
       "Name: Overweight, dtype: int64"
      ]
     },
     "execution_count": 124,
     "metadata": {},
     "output_type": "execute_result"
    }
   ],
   "source": [
    "df['Overweight'].value_counts()"
   ]
  },
  {
   "cell_type": "code",
   "execution_count": 129,
   "metadata": {},
   "outputs": [
    {
     "data": {
      "text/plain": [
       "0"
      ]
     },
     "execution_count": 129,
     "metadata": {},
     "output_type": "execute_result"
    },
    {
     "data": {
      "text/plain": [
       "1.0    7377\n",
       "0.0    2623\n",
       "Name: Overweight, dtype: int64"
      ]
     },
     "execution_count": 129,
     "metadata": {},
     "output_type": "execute_result"
    }
   ],
   "source": [
    "df['Overweight'] = df['Overweight'].fillna(1.0)\n",
    "df['Overweight'].isnull().sum()\n",
    "df['Overweight'].value_counts()"
   ]
  },
  {
   "cell_type": "markdown",
   "metadata": {},
   "source": [
    "#### We then want to map the value to 'Yes' and 'No', we will need to change the datatype, since they are currently floats."
   ]
  },
  {
   "cell_type": "code",
   "execution_count": 136,
   "metadata": {},
   "outputs": [],
   "source": [
    "df['Anxiety'] = df['Anxiety'].astype(str).map({'0.0': 'No', '1.0': 'Yes'}).astype('category')"
   ]
  },
  {
   "cell_type": "code",
   "execution_count": 137,
   "metadata": {},
   "outputs": [],
   "source": [
    "df['Overweight'] = df['Overweight'].astype(str).map({'0.0': 'No', '1.0': 'Yes'}).astype('category')"
   ]
  },
  {
   "cell_type": "code",
   "execution_count": 139,
   "metadata": {},
   "outputs": [
    {
     "data": {
      "text/plain": [
       "Overweight    category\n",
       "Anxiety       category\n",
       "dtype: object"
      ]
     },
     "execution_count": 139,
     "metadata": {},
     "output_type": "execute_result"
    },
    {
     "data": {
      "text/plain": [
       "Overweight    0\n",
       "Anxiety       0\n",
       "dtype: int64"
      ]
     },
     "execution_count": 139,
     "metadata": {},
     "output_type": "execute_result"
    }
   ],
   "source": [
    "# Here we can see that we successfully have categories for the data and no missing values\n",
    "df[['Overweight', 'Anxiety']].dtypes\n",
    "df[['Overweight', 'Anxiety']].isnull().sum()"
   ]
  },
  {
   "cell_type": "code",
   "execution_count": 142,
   "metadata": {},
   "outputs": [
    {
     "data": {
      "text/plain": [
       "Yes    7377\n",
       "No     2623\n",
       "Name: Overweight, dtype: int64"
      ]
     },
     "execution_count": 142,
     "metadata": {},
     "output_type": "execute_result"
    }
   ],
   "source": [
    "df['Overweight'].value_counts()"
   ]
  },
  {
   "cell_type": "code",
   "execution_count": 143,
   "metadata": {},
   "outputs": [
    {
     "data": {
      "text/plain": [
       "No     7094\n",
       "Yes    2906\n",
       "Name: Anxiety, dtype: int64"
      ]
     },
     "execution_count": 143,
     "metadata": {},
     "output_type": "execute_result"
    }
   ],
   "source": [
    "df['Anxiety'].value_counts()"
   ]
  },
  {
   "cell_type": "markdown",
   "metadata": {},
   "source": [
    "## Break"
   ]
  },
  {
   "cell_type": "markdown",
   "metadata": {},
   "source": [
    "## Convert columns to categorical data\n",
    "### One other change we can make is to convert the columns that contain categorical data stored as 'object' (aka string) type data into the Panda's Categorical type to make storing and using it faster."
   ]
  },
  {
   "cell_type": "code",
   "execution_count": 144,
   "metadata": {},
   "outputs": [
    {
     "data": {
      "text/plain": [
       "Customer_id           object\n",
       "City                  object\n",
       "State                 object\n",
       "County                object\n",
       "Zip                   object\n",
       "Area_Type             object\n",
       "Timezone              object\n",
       "Job                   object\n",
       "Education             object\n",
       "Employment            object\n",
       "Marital               object\n",
       "Gender                object\n",
       "ReAdmission_Status    object\n",
       "Soft_drink            object\n",
       "Initial_admin         object\n",
       "HighBlood             object\n",
       "Stroke                object\n",
       "Complication_risk     object\n",
       "Arthritis             object\n",
       "Diabetes              object\n",
       "Hyperlipidemia        object\n",
       "BackPain              object\n",
       "Allergic_rhinitis     object\n",
       "Reflux_esophagitis    object\n",
       "Asthma                object\n",
       "Services              object\n",
       "Anxiety_test          object\n",
       "dtype: object"
      ]
     },
     "execution_count": 144,
     "metadata": {},
     "output_type": "execute_result"
    }
   ],
   "source": [
    "potential_cat = df.dtypes\n",
    "potential_cat = potential_cat[potential_cat == 'object']\n",
    "potential_cat"
   ]
  },
  {
   "cell_type": "markdown",
   "metadata": {},
   "source": [
    "#### We know from our earlier examination of each of these columns that most of these are good candidates for being converted to categorical, I am going to leave 'Customer_id' as a string since that makes the most sense as a unique identifier rather than a category that many things could potentially fit into"
   ]
  },
  {
   "cell_type": "code",
   "execution_count": 161,
   "metadata": {},
   "outputs": [],
   "source": [
    "df = df.astype({'City': 'category', 'State': 'category', 'County': 'category', 'Area_Type': 'category', \n",
    "                    'Timezone': 'category', 'Job': 'category', 'Education': 'category', 'Employment': 'category',\n",
    "                    'Marital': 'category', 'Gender': 'category', 'ReAdmission_Status': 'category', \n",
    "                     'Soft_drink': 'category', 'Initial_admin': 'category', 'HighBlood': 'category', \n",
    "                     'Stroke': 'category', 'Complication_risk': 'category', 'Arthritis': 'category', \n",
    "                     'Diabetes': 'category', 'Hyperlipidemia': 'category', 'BackPain': 'category',\n",
    "                    'Allergic_rhinitis': 'category', 'Reflux_esophagitis': 'category', 'Asthma': 'category',\n",
    "                    'Services': 'category'})"
   ]
  },
  {
   "cell_type": "code",
   "execution_count": 162,
   "metadata": {},
   "outputs": [
    {
     "data": {
      "text/plain": [
       "Customer_id                     object\n",
       "City                          category\n",
       "State                         category\n",
       "County                        category\n",
       "Zip                             object\n",
       "Latitude                       float64\n",
       "Longitude                      float64\n",
       "Population_Within_One_Mile       int64\n",
       "Area_Type                     category\n",
       "Timezone                      category\n",
       "Job                           category\n",
       "Children                         int32\n",
       "Age                            float64\n",
       "Education                     category\n",
       "Employment                    category\n",
       "Income                         float64\n",
       "Marital                       category\n",
       "Gender                        category\n",
       "ReAdmission_Status            category\n",
       "VitD_levels                    float64\n",
       "Doc_visits                       int64\n",
       "Full_meals_eaten                 int64\n",
       "VitD_supp                        int64\n",
       "Soft_drink                    category\n",
       "Initial_admin                 category\n",
       "HighBlood                     category\n",
       "Stroke                        category\n",
       "Complication_risk             category\n",
       "Overweight                    category\n",
       "Arthritis                     category\n",
       "Diabetes                      category\n",
       "Hyperlipidemia                category\n",
       "BackPain                      category\n",
       "Anxiety                       category\n",
       "Allergic_rhinitis             category\n",
       "Reflux_esophagitis            category\n",
       "Asthma                        category\n",
       "Services                      category\n",
       "Initial_days                   float64\n",
       "TotalCharge                    float64\n",
       "Additional_charges             float64\n",
       "Zip_Length                       int64\n",
       "Anxiety_test                    object\n",
       "dtype: object"
      ]
     },
     "execution_count": 162,
     "metadata": {},
     "output_type": "execute_result"
    }
   ],
   "source": [
    "df.dtypes"
   ]
  },
  {
   "cell_type": "code",
   "execution_count": 156,
   "metadata": {},
   "outputs": [
    {
     "data": {
      "text/plain": [
       "Blood Work     5265\n",
       "Intravenous    3130\n",
       "CT Scan        1225\n",
       "MRI             380\n",
       "Name: Services, dtype: int64"
      ]
     },
     "execution_count": 156,
     "metadata": {},
     "output_type": "execute_result"
    }
   ],
   "source": [
    "df['Services'].value_counts()"
   ]
  },
  {
   "cell_type": "markdown",
   "metadata": {},
   "source": [
    "## Addressing missing values\n",
    "### Another big part of cleaning our data will be decide what to do about missing data. We can use a bit of code to take a look at how many columns are missing data."
   ]
  },
  {
   "cell_type": "code",
   "execution_count": 67,
   "metadata": {},
   "outputs": [
    {
     "data": {
      "text/plain": [
       "Age             2414\n",
       "Income          2464\n",
       "Soft_drink      2467\n",
       "Overweight       982\n",
       "Anxiety          984\n",
       "Initial_days    1056\n",
       "dtype: int64"
      ]
     },
     "execution_count": 67,
     "metadata": {},
     "output_type": "execute_result"
    }
   ],
   "source": [
    "# As we can see, the 'Age', 'Income', 'Soft_drink', 'Overweight', 'Anxiety', and 'Initial_days' columns are all missing\n",
    "# data. The first one I will address is age.\n",
    "column_w_null = df.isnull().sum()\n",
    "column_w_null[column_w_null > 0]"
   ]
  },
  {
   "cell_type": "code",
   "execution_count": 64,
   "metadata": {},
   "outputs": [
    {
     "data": {
      "text/plain": [
       "2414"
      ]
     },
     "execution_count": 64,
     "metadata": {},
     "output_type": "execute_result"
    },
    {
     "data": {
      "text/plain": [
       "7586"
      ]
     },
     "execution_count": 64,
     "metadata": {},
     "output_type": "execute_result"
    }
   ],
   "source": [
    "df['Age'].isnull().sum()\n",
    "df['Age'].notnull().sum()"
   ]
  },
  {
   "cell_type": "code",
   "execution_count": 63,
   "metadata": {},
   "outputs": [
    {
     "data": {
      "text/plain": [
       "ReAdmission_Status    0\n",
       "dtype: int64"
      ]
     },
     "execution_count": 63,
     "metadata": {},
     "output_type": "execute_result"
    }
   ],
   "source": [
    "df[['ReAdmission_Status']].isnull().sum()"
   ]
  },
  {
   "cell_type": "code",
   "execution_count": 6,
   "metadata": {},
   "outputs": [
    {
     "data": {
      "text/plain": [
       "No     6331\n",
       "Yes    3669\n",
       "Name: ReAdmis, dtype: int64"
      ]
     },
     "execution_count": 6,
     "metadata": {},
     "output_type": "execute_result"
    }
   ],
   "source": [
    "df['ReAdmis'].value_counts()"
   ]
  },
  {
   "cell_type": "code",
   "execution_count": 7,
   "metadata": {},
   "outputs": [
    {
     "data": {
      "text/plain": [
       "Unnamed: 0               0\n",
       "CaseOrder                0\n",
       "Customer_id              0\n",
       "Interaction              0\n",
       "UID                      0\n",
       "City                     0\n",
       "State                    0\n",
       "County                   0\n",
       "Zip                      0\n",
       "Lat                      0\n",
       "Lng                      0\n",
       "Population               0\n",
       "Area                     0\n",
       "Timezone                 0\n",
       "Job                      0\n",
       "Children              2588\n",
       "Age                   2414\n",
       "Education                0\n",
       "Employment               0\n",
       "Income                2464\n",
       "Marital                  0\n",
       "Gender                   0\n",
       "ReAdmis                  0\n",
       "VitD_levels              0\n",
       "Doc_visits               0\n",
       "Full_meals_eaten         0\n",
       "VitD_supp                0\n",
       "Soft_drink            2467\n",
       "Initial_admin            0\n",
       "HighBlood                0\n",
       "Stroke                   0\n",
       "Complication_risk        0\n",
       "Overweight             982\n",
       "Arthritis                0\n",
       "Diabetes                 0\n",
       "Hyperlipidemia           0\n",
       "BackPain                 0\n",
       "Anxiety                984\n",
       "Allergic_rhinitis        0\n",
       "Reflux_esophagitis       0\n",
       "Asthma                   0\n",
       "Services                 0\n",
       "Initial_days          1056\n",
       "TotalCharge              0\n",
       "Additional_charges       0\n",
       "Item1                    0\n",
       "Item2                    0\n",
       "Item3                    0\n",
       "Item4                    0\n",
       "Item5                    0\n",
       "Item6                    0\n",
       "Item7                    0\n",
       "Item8                    0\n",
       "dtype: int64"
      ]
     },
     "execution_count": 7,
     "metadata": {},
     "output_type": "execute_result"
    }
   ],
   "source": [
    "df.isnull().sum()"
   ]
  },
  {
   "cell_type": "markdown",
   "metadata": {},
   "source": [
    "#### Calculate the percent of missing values"
   ]
  },
  {
   "cell_type": "code",
   "execution_count": 23,
   "metadata": {},
   "outputs": [
    {
     "data": {
      "text/html": [
       "<div>\n",
       "<style scoped>\n",
       "    .dataframe tbody tr th:only-of-type {\n",
       "        vertical-align: middle;\n",
       "    }\n",
       "\n",
       "    .dataframe tbody tr th {\n",
       "        vertical-align: top;\n",
       "    }\n",
       "\n",
       "    .dataframe thead th {\n",
       "        text-align: right;\n",
       "    }\n",
       "</style>\n",
       "<table border=\"1\" class=\"dataframe\">\n",
       "  <thead>\n",
       "    <tr style=\"text-align: right;\">\n",
       "      <th></th>\n",
       "      <th>Missing Values</th>\n",
       "      <th>% of Total Values</th>\n",
       "    </tr>\n",
       "  </thead>\n",
       "  <tbody>\n",
       "    <tr>\n",
       "      <th>Children</th>\n",
       "      <td>2588</td>\n",
       "      <td>25.88</td>\n",
       "    </tr>\n",
       "    <tr>\n",
       "      <th>Soft_drink</th>\n",
       "      <td>2467</td>\n",
       "      <td>24.67</td>\n",
       "    </tr>\n",
       "    <tr>\n",
       "      <th>Income</th>\n",
       "      <td>2464</td>\n",
       "      <td>24.64</td>\n",
       "    </tr>\n",
       "    <tr>\n",
       "      <th>Age</th>\n",
       "      <td>2414</td>\n",
       "      <td>24.14</td>\n",
       "    </tr>\n",
       "    <tr>\n",
       "      <th>Initial_days</th>\n",
       "      <td>1056</td>\n",
       "      <td>10.56</td>\n",
       "    </tr>\n",
       "    <tr>\n",
       "      <th>Anxiety</th>\n",
       "      <td>984</td>\n",
       "      <td>9.84</td>\n",
       "    </tr>\n",
       "    <tr>\n",
       "      <th>Overweight</th>\n",
       "      <td>982</td>\n",
       "      <td>9.82</td>\n",
       "    </tr>\n",
       "  </tbody>\n",
       "</table>\n",
       "</div>"
      ],
      "text/plain": [
       "              Missing Values  % of Total Values\n",
       "Children                2588              25.88\n",
       "Soft_drink              2467              24.67\n",
       "Income                  2464              24.64\n",
       "Age                     2414              24.14\n",
       "Initial_days            1056              10.56\n",
       "Anxiety                  984               9.84\n",
       "Overweight               982               9.82"
      ]
     },
     "execution_count": 23,
     "metadata": {},
     "output_type": "execute_result"
    }
   ],
   "source": [
    "def missingval(df): \n",
    "    mis_val = df.isnull().sum() \n",
    "    mis_perc = 100 * df.isnull().sum()/len(df) \n",
    "    mis_tab = pd.concat([mis_val,mis_perc],axis=1) \n",
    "    mis_tab_ren = mis_tab.rename(columns ={0:'Missing Values', 1:'% of Total Values'}) \n",
    "    mis_tab_ren = mis_tab_ren[mis_tab_ren.iloc[:,1] != 0].sort_values(by=['% of Total Values'], ascending = False).round(2) \n",
    "    return mis_tab_ren \n",
    "missingval(df)"
   ]
  },
  {
   "cell_type": "code",
   "execution_count": 17,
   "metadata": {},
   "outputs": [
    {
     "data": {
      "text/plain": [
       "count    7586.000000\n",
       "mean       53.295676\n",
       "std        20.659182\n",
       "min        18.000000\n",
       "25%        35.000000\n",
       "50%        53.000000\n",
       "75%        71.000000\n",
       "max        89.000000\n",
       "Name: Age, dtype: float64"
      ]
     },
     "execution_count": 17,
     "metadata": {},
     "output_type": "execute_result"
    }
   ],
   "source": [
    "df['Age'].describe()"
   ]
  },
  {
   "cell_type": "code",
   "execution_count": 24,
   "metadata": {},
   "outputs": [],
   "source": [
    "# Check and see if there seems to be a large effect of age on whether or not someone is readmitted"
   ]
  },
  {
   "cell_type": "code",
   "execution_count": 23,
   "metadata": {},
   "outputs": [
    {
     "data": {
      "text/plain": [
       "array([<matplotlib.axes._subplots.AxesSubplot object at 0x2FF20EF0>,\n",
       "       <matplotlib.axes._subplots.AxesSubplot object at 0x2FF4A750>],\n",
       "      dtype=object)"
      ]
     },
     "execution_count": 23,
     "metadata": {},
     "output_type": "execute_result"
    },
    {
     "data": {
      "image/png": "[encoded data removed]",
      "text/plain": [
       "<Figure size 1080x576 with 2 Axes>"
      ]
     },
     "metadata": {},
     "output_type": "display_data"
    }
   ],
   "source": [
    "import seaborn as sns\n",
    "plt.rcParams['figure.figsize'] = [15, 8]\n",
    "sns.set()\n",
    "df.hist(by='ReAdmis', column = 'Age')"
   ]
  },
  {
   "cell_type": "code",
   "execution_count": 25,
   "metadata": {},
   "outputs": [],
   "source": [
    "# Based on our graphs it doesnt seem like there is any particulare effect from how old someone is on whether or not they\n",
    "# are readmitted."
   ]
  },
  {
   "cell_type": "code",
   "execution_count": 27,
   "metadata": {},
   "outputs": [
    {
     "data": {
      "text/plain": [
       "30.0    126\n",
       "47.0    124\n",
       "74.0    123\n",
       "38.0    123\n",
       "40.0    122\n",
       "56.0    121\n",
       "31.0    121\n",
       "41.0    118\n",
       "23.0    114\n",
       "86.0    113\n",
       "35.0    112\n",
       "62.0    112\n",
       "52.0    112\n",
       "53.0    112\n",
       "69.0    112\n",
       "61.0    111\n",
       "26.0    111\n",
       "57.0    111\n",
       "85.0    110\n",
       "33.0    110\n",
       "79.0    110\n",
       "71.0    109\n",
       "34.0    109\n",
       "46.0    109\n",
       "83.0    108\n",
       "65.0    108\n",
       "72.0    108\n",
       "49.0    108\n",
       "76.0    108\n",
       "58.0    108\n",
       "       ... \n",
       "66.0    104\n",
       "81.0    104\n",
       "48.0    103\n",
       "32.0    103\n",
       "25.0    103\n",
       "68.0    103\n",
       "87.0    102\n",
       "42.0    102\n",
       "39.0    102\n",
       "19.0    102\n",
       "77.0    102\n",
       "22.0    101\n",
       "54.0    101\n",
       "28.0    100\n",
       "67.0     99\n",
       "60.0     99\n",
       "50.0     98\n",
       "21.0     97\n",
       "20.0     95\n",
       "89.0     95\n",
       "59.0     94\n",
       "29.0     93\n",
       "80.0     91\n",
       "84.0     91\n",
       "75.0     90\n",
       "82.0     90\n",
       "44.0     90\n",
       "63.0     90\n",
       "51.0     89\n",
       "36.0     85\n",
       "Name: Age, Length: 72, dtype: int64"
      ]
     },
     "execution_count": 27,
     "metadata": {},
     "output_type": "execute_result"
    }
   ],
   "source": [
    "df['Age'].value_counts()"
   ]
  },
  {
   "cell_type": "code",
   "execution_count": 28,
   "metadata": {},
   "outputs": [
    {
     "data": {
      "text/plain": [
       "array([[<matplotlib.axes._subplots.AxesSubplot object at 0x2FF59170>]],\n",
       "      dtype=object)"
      ]
     },
     "execution_count": 28,
     "metadata": {},
     "output_type": "execute_result"
    },
    {
     "data": {
      "image/png": "[encoded data removed]",
      "text/plain": [
       "<Figure size 1080x576 with 1 Axes>"
      ]
     },
     "metadata": {},
     "output_type": "display_data"
    }
   ],
   "source": [
    "df.hist('Age')"
   ]
  },
  {
   "cell_type": "code",
   "execution_count": 41,
   "metadata": {},
   "outputs": [
    {
     "data": {
      "text/plain": [
       "7687"
      ]
     },
     "execution_count": 41,
     "metadata": {},
     "output_type": "execute_result"
    }
   ],
   "source": [
    "# how many rows contain any nulls\n",
    "df.isnull().any(axis=1).sum()"
   ]
  },
  {
   "cell_type": "code",
   "execution_count": 38,
   "metadata": {},
   "outputs": [
    {
     "data": {
      "text/plain": [
       "0"
      ]
     },
     "execution_count": 38,
     "metadata": {},
     "output_type": "execute_result"
    }
   ],
   "source": [
    "df.duplicated().sum()"
   ]
  },
  {
   "cell_type": "code",
   "execution_count": 42,
   "metadata": {},
   "outputs": [
    {
     "data": {
      "text/plain": [
       "4    3455\n",
       "3    3404\n",
       "5    1377\n",
       "2    1315\n",
       "6     225\n",
       "1     213\n",
       "7      10\n",
       "8       1\n",
       "Name: Item1, dtype: int64"
      ]
     },
     "execution_count": 42,
     "metadata": {},
     "output_type": "execute_result"
    }
   ],
   "source": [
    "df['Item1'].value_counts()"
   ]
  },
  {
   "cell_type": "code",
   "execution_count": null,
   "metadata": {},
   "outputs": [],
   "source": []
  }
 ],
 "metadata": {
  "interpreter": {
   "hash": "00fa060af6afef680a02fddb666892567ebe66c80f0204a36e52a4cd6041a0e9"
  },
  "kernelspec": {
   "display_name": "Python 3",
   "language": "python",
   "name": "python3"
  },
  "language_info": {
   "codemirror_mode": {
    "name": "ipython",
    "version": 3
   },
   "file_extension": ".py",
   "mimetype": "text/x-python",
   "name": "python",
   "nbconvert_exporter": "python",
   "pygments_lexer": "ipython3",
   "version": "3.7.1"
  }
 },
 "nbformat": 4,
 "nbformat_minor": 2
}
